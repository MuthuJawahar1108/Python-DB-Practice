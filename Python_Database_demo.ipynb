{
 "cells": [
  {
   "cell_type": "code",
   "execution_count": 3,
   "id": "ad409733-a73e-4eed-b4f0-f5a405d08263",
   "metadata": {},
   "outputs": [],
   "source": [
    "import mysql.connector\n",
    "from mysql.connector import Error\n",
    "import pandas as pd"
   ]
  },
  {
   "cell_type": "code",
   "execution_count": 4,
   "id": "3e97f940-d9f9-4153-b413-345a82763edf",
   "metadata": {},
   "outputs": [],
   "source": [
    "def create_server_connection(host_name,user_name,user_password):\n",
    "    connection = None\n",
    "    try:\n",
    "        connection = mysql.connector.connect(\n",
    "            host = host_name,\n",
    "            user = user_name,\n",
    "            passwd = user_password\n",
    "        )\n",
    "        print(\"MySql connection successfull!\")\n",
    "    except Error as err:\n",
    "        print(f\"Error: '{err}'\")\n",
    "\n",
    "    return connection\n",
    "        "
   ]
  },
  {
   "cell_type": "code",
   "execution_count": 5,
   "id": "d11538bf-cff6-42cd-af2a-fb03fd782fab",
   "metadata": {},
   "outputs": [
    {
     "name": "stdout",
     "output_type": "stream",
     "text": [
      "MySql connection successfull!\n"
     ]
    }
   ],
   "source": [
    "pw = \"<Your MySql Password>\"\n",
    "connection = create_server_connection(\"localhost\", \"root\", pw)"
   ]
  },
  {
   "cell_type": "code",
   "execution_count": 10,
   "id": "9a3287a8-fa0d-460f-a305-1fa5022c96d3",
   "metadata": {},
   "outputs": [],
   "source": [
    "def create_database(connection, query):\n",
    "    cursor = connection.cursor()\n",
    "    try:\n",
    "        cursor.execute(query)\n",
    "        print(\"Database created successfully\")\n",
    "    except Error as err:\n",
    "        print(f\"Error: '{err}'\")"
   ]
  },
  {
   "cell_type": "code",
   "execution_count": 11,
   "id": "287569ae-39d9-42d5-b0f9-1bb56db6c8fe",
   "metadata": {},
   "outputs": [
    {
     "name": "stdout",
     "output_type": "stream",
     "text": [
      "Database created successfully\n"
     ]
    }
   ],
   "source": [
    "create_database_query = \"CREATE DATABASE retail\"\n",
    "create_database(connection,create_database_query)"
   ]
  },
  {
   "cell_type": "code",
   "execution_count": 6,
   "id": "f5640412-9b50-45a7-8b6f-7d4f344df54e",
   "metadata": {},
   "outputs": [],
   "source": [
    "def create_db_connection(host_name, user_name, user_password, db_name):\n",
    "    connection = None\n",
    "    try:\n",
    "        connection = mysql.connector.connect(\n",
    "            host=host_name,\n",
    "            user=user_name,\n",
    "            passwd=user_password,\n",
    "            database=db_name\n",
    "        )\n",
    "        print(\"MySQL Database connection successful\")\n",
    "    except Error as err:\n",
    "        print(f\"Error: '{err}'\")\n",
    "\n",
    "    return connection"
   ]
  },
  {
   "cell_type": "code",
   "execution_count": 7,
   "id": "a1ad6eda-cb20-4980-a8bd-1f14927e31d6",
   "metadata": {},
   "outputs": [],
   "source": [
    "def execute_query(connection, query):\n",
    "    cursor = connection.cursor()\n",
    "    try:\n",
    "        cursor.execute(query)\n",
    "        connection.commit()\n",
    "        print(\"Query successful\")\n",
    "    except Error as err:\n",
    "        print(f\"Error: '{err}'\")\n"
   ]
  },
  {
   "cell_type": "code",
   "execution_count": 8,
   "id": "a54a8ae2-bd9b-4013-afa9-6e21665141a8",
   "metadata": {},
   "outputs": [
    {
     "name": "stdout",
     "output_type": "stream",
     "text": [
      "MySQL Database connection successful\n"
     ]
    }
   ],
   "source": [
    "\n",
    "db = \"retail\"\n",
    "connection = create_db_connection(\"localhost\", \"root\", pw, db) # Connect to the Database\n",
    "\n"
   ]
  },
  {
   "cell_type": "code",
   "execution_count": 20,
   "id": "098775f4-719e-4bd5-8c80-02a2317a628c",
   "metadata": {},
   "outputs": [
    {
     "name": "stdout",
     "output_type": "stream",
     "text": [
      "Query successful\n",
      "Query successful\n"
     ]
    }
   ],
   "source": [
    "create_customer_table = \"\"\"\n",
    "CREATE TABLE customer (\n",
    "  customer_id INT PRIMARY KEY,\n",
    "  customer_name VARCHAR(40) NOT NULL,\n",
    "  address VARCHAR(40) NOT NULL\n",
    "  );\n",
    " \"\"\"\n",
    "\n",
    "create_product_table = \"\"\"\n",
    "CREATE TABLE product (\n",
    "  product_id INT PRIMARY KEY,\n",
    "  product_name VARCHAR(40) NOT NULL,\n",
    "  price FLOAT NOT NULL\n",
    "  );\n",
    " \"\"\"\n",
    "\n",
    "execute_query(connection, create_customer_table) # Execute our defined query\n",
    "execute_query(connection, create_product_table) # Execute our defined query"
   ]
  },
  {
   "cell_type": "code",
   "execution_count": 9,
   "id": "73189e25-c878-43b8-9983-e5d3451fc26e",
   "metadata": {},
   "outputs": [
    {
     "name": "stdout",
     "output_type": "stream",
     "text": [
      "Query successful\n",
      "Query successful\n"
     ]
    }
   ],
   "source": [
    "pop_customer = \"\"\"\n",
    "    INSERT INTO customer VALUES\n",
    "    (1,\"Muthu\",\"Coimbatore\"),\n",
    "    (2,\"Vignesh\",\"Chennai\"),\n",
    "    (3,\"Gladwin\",\"Thrissur\");\n",
    "\"\"\"\n",
    "\n",
    "pop_product = \"\"\"\n",
    "    INSERT INTO product VALUES\n",
    "    (101,\"TV\",5000.25),\n",
    "    (102,\"Watch\",1000.99),\n",
    "    (103,\"Fan\",400);\n",
    "\"\"\"\n",
    "\n",
    "execute_query(connection,pop_customer)\n",
    "execute_query(connection,pop_product)"
   ]
  },
  {
   "cell_type": "code",
   "execution_count": 11,
   "id": "73d251b8-064d-414d-b8fc-ef87456cd4c2",
   "metadata": {},
   "outputs": [
    {
     "name": "stdout",
     "output_type": "stream",
     "text": [
      "Query successful\n"
     ]
    }
   ],
   "source": [
    "update_customer = \"\"\"\n",
    "    UPDATE customer\n",
    "    SET address = \"Tiruppur\"\n",
    "    WHERE customer_id = 1;\n",
    "\"\"\"\n",
    "\n",
    "execute_query(connection,update_customer)"
   ]
  },
  {
   "cell_type": "code",
   "execution_count": 12,
   "id": "976e89ae-4775-46b3-98fe-defe6e6da5fa",
   "metadata": {},
   "outputs": [
    {
     "name": "stdout",
     "output_type": "stream",
     "text": [
      "Query successful\n"
     ]
    }
   ],
   "source": [
    "delete_customer = \"\"\"\n",
    "    DELETE FROM customer\n",
    "    WHERE customer_id = 3;\n",
    "\"\"\"\n",
    "\n",
    "execute_query(connection,delete_customer)"
   ]
  },
  {
   "cell_type": "code",
   "execution_count": null,
   "id": "a87d64e3-497c-496c-afaf-a7eef60c998c",
   "metadata": {},
   "outputs": [],
   "source": []
  }
 ],
 "metadata": {
  "kernelspec": {
   "display_name": "Python 3 (ipykernel)",
   "language": "python",
   "name": "python3"
  },
  "language_info": {
   "codemirror_mode": {
    "name": "ipython",
    "version": 3
   },
   "file_extension": ".py",
   "mimetype": "text/x-python",
   "name": "python",
   "nbconvert_exporter": "python",
   "pygments_lexer": "ipython3",
   "version": "3.11.5"
  }
 },
 "nbformat": 4,
 "nbformat_minor": 5
}
